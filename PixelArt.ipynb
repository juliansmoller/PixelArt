{
 "cells": [
  {
   "cell_type": "code",
   "execution_count": 60,
   "metadata": {
    "collapsed": true
   },
   "outputs": [],
   "source": [
    "import os\n",
    "from PIL import Image\n",
    "from matplotlib.pyplot import imshow\n",
    "import matplotlib \n",
    "%matplotlib inline"
   ]
  },
  {
   "cell_type": "code",
   "execution_count": 61,
   "metadata": {
    "collapsed": true
   },
   "outputs": [],
   "source": [
    "def draw_pattern(pattern,colors,size=10):\n",
    "    n_rows = len(pattern)\n",
    "    n_cols = len(pattern[0])\n",
    "    image = Image.new('RGB',(n_cols*size,n_rows*size),(0,0,0))\n",
    "    for r in range(n_rows):\n",
    "        for c in range(n_cols):\n",
    "            color_code = pattern[r][c]\n",
    "            color = colors.get(color_code,(0,0,0))\n",
    "            block = Image.new('RGB',(size,size),color)\n",
    "            image.paste(block,(c*size,r*size))\n",
    "    return image"
   ]
  },
  {
   "cell_type": "code",
   "execution_count": 59,
   "metadata": {},
   "outputs": [
    {
     "data": {
      "image/png": "[encoded data removed]",
      "text/plain": [
       "<PIL.Image.Image image mode=RGB size=550x740 at 0x10E9916D8>"
      ]
     },
     "execution_count": 59,
     "metadata": {},
     "output_type": "execute_result"
    }
   ],
   "source": [
    "pattern = '''\n",
    "_______________________________________________________\n",
    "_______________________________________________________\n",
    "_____________________c_________________________________\n",
    "__________________c_bcb_c_________________b____________\n",
    "__________________c_bbb_c_______________bb_____________\n",
    "__________________b__b__b____b_________bb______________\n",
    "___________________b_b_b______b____bbbb________________\n",
    "_________________c__bcb__c____b__bb____ddbbb___________\n",
    "________________ccc_ccc_ccc___b_b__dd__ddd__dd_________\n",
    "________________bcb__c__bcb____b__dddd_dddd_ddd________\n",
    "_________________b___b___b_____b__dddd__de__dddd_______\n",
    "______________b__c___c___c__b_b____ded_______de________\n",
    "________gg_____bccc_ccc_cccb__b___f____________________\n",
    "_______geeg_____bc__bcb__cb___bf_fff_f_________________\n",
    "______gedeeg______b_bbb_b_____fff_f_fff______b_________\n",
    "______gdeeee_____ccb_b_bcc__f__f__b__f__f___bb_________\n",
    "______eeeeee____bccb_b_bccbfff__b_f_b__fff__bb_bbb_____\n",
    "_______eeee______bbb_c_bbb__fb_f_fff_f_bf__ff_bbb______\n",
    "_____gggeddd_____c_bcccb_c____fff_f_fff____ffb_________\n",
    "____ggggddd_gg__ccc_bcb_ccc__bbfb_b_bf_b_ffggff________\n",
    "_____gg_dgg_gg_ggbb__b__bb_f__b__bbb_g___ffggffbb______\n",
    "_________gggggggg__b_b_b__fff_bb__b_ggg___bffbbbbb_____\n",
    "__________ggeegg____bbb_f__f__fb_gg_ggg_gg_ff__bbbb____\n",
    "________gggeffeggg___b_fff_b_fff_ggghhhggg_bbbff_______\n",
    "________gggeffeggg___b__f__f__f___gheeehg_bbbbff_______\n",
    "___b____bbggeegg_bbb_b_bbbfff_b_ggheeeeehggbffggff_____\n",
    "____b___bgggggggg_bbbbbbb__f__bgggheeeeehgggffggff_____\n",
    "____bbb__gg_ggbgg__iib___b___b__ggheeeeehgg___ff_______\n",
    "_______bb_b_ggb____iibbb__bbbm_bb_gheeehg_____ff_______\n",
    "______bbbbbb___b_iieeiimbbmbmmbbmggghhhggg_d_d_d_______\n",
    "___ddd__bbbbb__b_iieeiimbbmfffbmbgg_ggg_gg_ddddd_ff____\n",
    "__dddd_bb___dbb_b__iibmbmbfcccfmbbb_gggff__ddddd_ff____\n",
    "___dddb_d__ddd__ii_iibmfffcccccfffbbbgbff__ddddd_______\n",
    "__e_db_ddd_ddd__ii__mbfccfcccccfccfbbmb__d_mddd___d____\n",
    "_____b_ddd_dddiieeiimfcccccnnncccccfmmbd_dm_bdb__d__d__\n",
    "____dd_dddiiediieeiimfcccnnnnnnncccfmdmdddd__b__dddd___\n",
    "___ddd_dedii____iibbmffcnnnnennnncffmbddddd__b__dddd___\n",
    "___ddd__iieeii__iibbfcccnneeeeenncccfbdddddffb_bddddd__\n",
    "___ed___iieeii_bbbbfcccnnneegeennncccfbdddbffb_bbddd___\n",
    "______fff_iibb__bbbfcccnneegggeenncccf___bb__b_b_______\n",
    "_____fffffii__b_bbbfcccnnneegeennncccfbb___bbbb________\n",
    "____bffeff____kmmmmbfcccnneeeeenncccfmmbbb___b__bbb____\n",
    "____bfffff___klkmmmbmffcnnnnennnncffmmbfbbb_b__bbb_____\n",
    "_____bfffkkk_klk_kkkmfcccnnnnnnncccfmfbfbfb_b_bbbb_____\n",
    "___fffbbkklk_klk_klkkfcccccnnncccccfmmfgfbb_b_bbb_ff___\n",
    "__fffffbkllkkklkkkllkmfccfcccccfccfmffgggffb_bb___ff___\n",
    "__ffeffbkkllleeelllkkbmfffcccccfffmmmmfgfmmbb___f______\n",
    "__fffff_bbklegggelk___mmmmfcccfmmkmmmfmfmfbff_f_f_f____\n",
    "___fff_kkkkegggggekkkkmmmmmfffmmkkkmmmmfmbbffbbfgf_____\n",
    "____b_kllllegggggellllkbbmmmmkkmkkkmkkbbbbfbbffgggff___\n",
    "____b__kkkkegggggekkkkbbbbbmmkkkeeekkkbbfbfbf__fgf_____\n",
    "___b______klegggelkmmmmbbbbbbbkekkkekbbbbfgf__f_f_f____\n",
    "________kkllleeelllkkmmmbbbbkkekkkkkekkffgggff__f______\n",
    "________kllkkklkkkllkmmmbbbkkkekkkkkekkkbfgfbb___f_____\n",
    "____bbb_kklk_klkbklkkbmmmbbbkkekkkkkekkbfbf_f_bf_f_f___\n",
    "___bbbbb_kkkbklkbkkkmmbbmmmmmmkekkkekbbbbbfb___bfgf____\n",
    "__bbbbbbb_ffbklkfffffffffffffkkkeeekkkbbbbbbb_ffgggff__\n",
    "_____bb__bbbbbkffffffffffffffkkfkkkfkkfbbbbbbf__fgf____\n",
    "________bbfbjjjjjjjjjjjjjjjjjjjjkkkjjjjjbbbbbfff_f_f___\n",
    "_______bff_b_jjfjjjfjjjfjjjfjjjfjkjfjjjfjbbbf____f_____\n",
    "__bbbb_bffbbbjfjfjfjfjfjfjfjfjfjfjfjfjfjfjfbiff________\n",
    "___bbbbbffbbbfjjjfjjjfjjjfjjjfjjjfjjjfjjjfbieibb_i_____\n",
    "_______bffbbb_fjfjfjfjfjfjfjfjfjfjfjfjfjfjb_ibf_iei____\n",
    "______b_bffb__jfjjjfjjjfjjjfjjjfjjjfjjjfj___bfbbbi_____\n",
    "____bb__bbff__fjfjfjfjfjfjfjfjfjfjfjfjfjf__iff_ib______\n",
    "___bbb__bbfffffjjfjjjfjjjfjjjfjjjfjjjfjjffiei_ieib_____\n",
    "___bbb___b__fffjfjfjfjfjfjfjfjfjfjfjfjfjfffi___i___i___\n",
    "___b___________fjjjfjjjfjjjfjjjfjjjfjjjf__________iei__\n",
    "________________fjfjfjfjfjfjfjfjfjfjfjf____________i___\n",
    "________________jjjjjjjjjjjjjjjjjjjjjjj________________\n",
    "________________fffffffffffffffffffffff________________\n",
    "________________fffffffffffffffffffffff________________\n",
    "_______________________________________________________\n",
    "_______________________________________________________\n",
    "'''.split('\\n')[1:-1]\n",
    "\n",
    "colors = {}\n",
    "colors['_'] = (69, 249, 190) # light green \n",
    "colors['b'] =(33, 119, 91) # dark green\n",
    "colors['c'] = (249, 157, 249) # pink\n",
    "colors['d'] = (143, 89, 214) # violet\n",
    "colors['e'] = (242, 242, 60) # yellow\n",
    "colors['f'] = (255, 255, 255) # white\n",
    "colors['g'] = (247, 133, 56) # orange\n",
    "colors['h'] = (232, 67, 48) # bright red\n",
    "colors['i'] = (186, 33, 89) # magenta\n",
    "colors['j'] = (13, 11, 104) # dark blue\n",
    "colors['k'] = (186, 13, 13) # dark red\n",
    "colors['l'] = (216, 30, 30) # red\n",
    "colors['m'] = (15, 38, 8) # dark green\n",
    "colors['n'] = (255, 255, 181) # cream\n",
    "\n",
    "draw_pattern(pattern,colors)"
   ]
  },
  {
   "cell_type": "code",
   "execution_count": 72,
   "metadata": {},
   "outputs": [],
   "source": [
    "#Image.open('flowers.jpg')"
   ]
  },
  {
   "cell_type": "code",
   "execution_count": 89,
   "metadata": {},
   "outputs": [
    {
     "data": {
      "image/png": "[encoded data removed]",
      "text/plain": [
       "<PIL.Image.Image image mode=RGB size=140x240 at 0x10E88F6A0>"
      ]
     },
     "execution_count": 89,
     "metadata": {},
     "output_type": "execute_result"
    }
   ],
   "source": [
    "pattern = '''\n",
    "aabbccedccbbaa\n",
    "abbccedddccbba\n",
    "bbcceddeddccbb\n",
    "bcceddeeeddccb\n",
    "cceddeedeeddcc\n",
    "ceddeedddeeddc\n",
    "eddeeddeddeedd\n",
    "ddeeddeddeeddc\n",
    "eddeeddeeeddcc\n",
    "ceddeeddeddccb\n",
    "cceddeedddccbb\n",
    "bcceddeedccbba\n",
    "bbcceddeccbbaa\n",
    "abbcceddeccbba\n",
    "aabbcceddeccbb\n",
    "abbccdeeddeccb\n",
    "bbccdddeeddecc\n",
    "bccddeddeeddec\n",
    "ccddeeeddeedde\n",
    "cddeeddeddeedd\n",
    "ddeeddeddeedde\n",
    "cddeedddeeddec\n",
    "ccddeedeeddecc\n",
    "bccddeeeddeccb\n",
    "\n",
    "'''.split('\\n')[1:-1]\n",
    "\n",
    "colors = {}\n",
    "colors['a'] = (216, 30, 30) # red\n",
    "colors['b'] = (255, 175, 45) # orange\n",
    "colors['c'] = (242, 242, 60) # yellow\n",
    "colors['d'] = (0, 0, 0) # black\n",
    "colors['e'] = (22, 20, 186) # dark blue\n",
    "draw_pattern(pattern,colors)"
   ]
  },
  {
   "cell_type": "code",
   "execution_count": null,
   "metadata": {
    "collapsed": true
   },
   "outputs": [],
   "source": []
  }
 ],
 "metadata": {
  "kernelspec": {
   "display_name": "Python 3",
   "language": "python",
   "name": "python3"
  },
  "language_info": {
   "codemirror_mode": {
    "name": "ipython",
    "version": 3
   },
   "file_extension": ".py",
   "mimetype": "text/x-python",
   "name": "python",
   "nbconvert_exporter": "python",
   "pygments_lexer": "ipython3",
   "version": "3.6.3"
  }
 },
 "nbformat": 4,
 "nbformat_minor": 2
}
